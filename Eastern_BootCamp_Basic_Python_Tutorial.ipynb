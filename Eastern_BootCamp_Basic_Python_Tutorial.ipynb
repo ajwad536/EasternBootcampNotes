{
  "nbformat": 4,
  "nbformat_minor": 0,
  "metadata": {
    "colab": {
      "provenance": []
    },
    "kernelspec": {
      "name": "python3",
      "display_name": "Python 3"
    },
    "language_info": {
      "name": "python"
    }
  },
  "cells": [
    {
      "cell_type": "code",
      "source": [],
      "metadata": {
        "id": "JtooVQ2KrZ19"
      },
      "execution_count": null,
      "outputs": []
    },
    {
      "cell_type": "markdown",
      "source": [
        "**Installation:**"
      ],
      "metadata": {
        "id": "T4pCnZO4_h4n"
      }
    },
    {
      "cell_type": "markdown",
      "source": [
        "Python Tutorial By Ajwad Anwar Id: 21240006\n",
        "\n",
        "In this first Tutorial we will be covering the basics of Python starting from Installation and coverng all the way to using Pip to download FastApI\n",
        "\n",
        "Table of Content:\n",
        "1. Installation and running Hello World and\n",
        "2. Python Variables and Supported Data-Types\n",
        "3. Arithmetic Operators and Conditional Statements\n",
        "4. For Loops, While Loops and iterating in Python\n",
        "5. Lists and Dictionary\n",
        "6. Basics of Functions\n",
        "7. Modules\n",
        "8. Pip and how to download FastAPI and other Python packages\n"
      ],
      "metadata": {
        "id": "KpVyjMwo9hgk"
      }
    },
    {
      "cell_type": "code",
      "source": [],
      "metadata": {
        "id": "p7cBeWJNPvh7"
      },
      "execution_count": null,
      "outputs": []
    },
    {
      "cell_type": "code",
      "source": [],
      "metadata": {
        "id": "dVt5PZmdPwsY"
      },
      "execution_count": null,
      "outputs": []
    },
    {
      "cell_type": "markdown",
      "source": [
        "**Python Variable and Supported Datatypes and Comments:**\n",
        "\n",
        "The first way in which Python differ from traditional programing languages such as C and Java is that we do not have to declare variable types when declaring a variable."
      ],
      "metadata": {
        "id": "MKbUaK9D_qCO"
      }
    },
    {
      "cell_type": "code",
      "source": [
        "A=5\n",
        "B=\"This is a string\"\n",
        "# Here we did not have to specify A as integer or B as String\n",
        "print(A)\n",
        "print(B)"
      ],
      "metadata": {
        "colab": {
          "base_uri": "https://localhost:8080/"
        },
        "id": "dvuF8aQADZ2S",
        "outputId": "29903813-290c-43aa-f97c-1706907ea753"
      },
      "execution_count": null,
      "outputs": [
        {
          "output_type": "stream",
          "name": "stdout",
          "text": [
            "5\n",
            "This is a string\n"
          ]
        }
      ]
    },
    {
      "cell_type": "markdown",
      "source": [
        "However much like C and Java, we can't declare a variable without instantiating it\n",
        "\n",
        "\n",
        "\n"
      ],
      "metadata": {
        "id": "_AmiYQ08Dn6k"
      }
    },
    {
      "cell_type": "code",
      "source": [
        "A=5\n",
        "C \"This will produce an Error\"\n",
        "print(A)\n",
        "print(C) \"This will also produce an Error\""
      ],
      "metadata": {
        "colab": {
          "base_uri": "https://localhost:8080/",
          "height": 227
        },
        "id": "IqqlsYDcE9TJ",
        "outputId": "d1459e0f-80ed-4f75-fc7b-7fc40f74dae8"
      },
      "execution_count": null,
      "outputs": [
        {
          "output_type": "error",
          "ename": "NameError",
          "evalue": "ignored",
          "traceback": [
            "\u001b[0;31m---------------------------------------------------------------------------\u001b[0m",
            "\u001b[0;31mNameError\u001b[0m                                 Traceback (most recent call last)",
            "\u001b[0;32m<ipython-input-3-37be7f6d64ac>\u001b[0m in \u001b[0;36m<cell line: 2>\u001b[0;34m()\u001b[0m\n\u001b[1;32m      1\u001b[0m \u001b[0mA\u001b[0m\u001b[0;34m=\u001b[0m\u001b[0;36m5\u001b[0m\u001b[0;34m\u001b[0m\u001b[0;34m\u001b[0m\u001b[0m\n\u001b[0;32m----> 2\u001b[0;31m \u001b[0mC\u001b[0m\u001b[0;34m\u001b[0m\u001b[0;34m\u001b[0m\u001b[0m\n\u001b[0m\u001b[1;32m      3\u001b[0m \u001b[0mprint\u001b[0m\u001b[0;34m(\u001b[0m\u001b[0mA\u001b[0m\u001b[0;34m)\u001b[0m\u001b[0;34m\u001b[0m\u001b[0;34m\u001b[0m\u001b[0m\n\u001b[1;32m      4\u001b[0m \u001b[0mprint\u001b[0m\u001b[0;34m(\u001b[0m\u001b[0mC\u001b[0m\u001b[0;34m)\u001b[0m\u001b[0;34m\u001b[0m\u001b[0;34m\u001b[0m\u001b[0m\n",
            "\u001b[0;31mNameError\u001b[0m: name 'C' is not defined"
          ]
        }
      ]
    },
    {
      "cell_type": "markdown",
      "source": [
        "In  C and Java we can instantiate a variable using:\n",
        "\n",
        "int A;\n",
        "\n",
        "which declares an empty integer Variable A. However what is actually happening here is that C or Java is instantiating a Int Variable which has the value null. Null is a special value which represents absence of any value. In C and Java this is automatically assigned when a variable is instantiated. In Python we have to do it explicitly. Once instantiate however, the variable is free to hold whatever value of whatever type it wants afterwards"
      ],
      "metadata": {
        "id": "eHey0EYNJgCN"
      }
    },
    {
      "cell_type": "code",
      "source": [
        "C=\"\" #Empty String\n",
        "C=\"Now C holds String\"\n",
        "print(C)\n",
        "C=89 # Now C holds\n",
        "print(C)"
      ],
      "metadata": {
        "colab": {
          "base_uri": "https://localhost:8080/"
        },
        "id": "tGDWiPovSfh-",
        "outputId": "1e5a5990-92cf-48fd-aaa1-fd8f8a9c9675"
      },
      "execution_count": null,
      "outputs": [
        {
          "output_type": "stream",
          "name": "stdout",
          "text": [
            "Now C holds String\n",
            "89\n"
          ]
        }
      ]
    },
    {
      "cell_type": "markdown",
      "source": [
        "The following are Data types native to Python:\n",
        "\n",
        "1. Text Type:\tstr\n",
        "2. Numeric Types:\tint, float, complex\n",
        "3. Sequence Types:\tlist, tuple, range\n",
        "4. Boolean Type:\tbool\n",
        "5. None Type:\tNoneType\n",
        "6. Mapping Type:\tdict\n",
        "7. Set Types:\tset, frozenset\n",
        "8. Binary Types:\tbytes, bytearray, memoryview\n",
        "\n",
        "In Python Null is also known as NoneType, in the future whenever you see NoneType in code or documentation assume they mean Null. In this tutorial series we will focus on at most DataType 1-6.\n",
        "\n",
        "Because Datatype isn't declared sometimes it becomes difficult knowing what the variable holds. In which case we can use an in built fucntion called type():"
      ],
      "metadata": {
        "id": "ZK9DP4lPTQd4"
      }
    },
    {
      "cell_type": "code",
      "source": [
        "x = 5\n",
        "print(type(x))"
      ],
      "metadata": {
        "colab": {
          "base_uri": "https://localhost:8080/"
        },
        "id": "CO_FHIPiXo54",
        "outputId": "1982aaa7-9a13-4495-b288-85fcfeaebedc"
      },
      "execution_count": null,
      "outputs": [
        {
          "output_type": "stream",
          "name": "stdout",
          "text": [
            "<class 'int'>\n"
          ]
        }
      ]
    },
    {
      "cell_type": "markdown",
      "source": [
        "Notice how it says class 'int' instead of just int or type int. Thats is because almost everything in Python is an object. This fact will become more pertinent in future tutorial series. For now remember it as an interesting fact!"
      ],
      "metadata": {
        "id": "Frz2kh7qYDNx"
      }
    },
    {
      "cell_type": "markdown",
      "source": [
        "**Comments**"
      ],
      "metadata": {
        "id": "4wt6oDNAYbNl"
      }
    },
    {
      "cell_type": "markdown",
      "source": [
        "Every programing language has comments. Comments are lines in the program which do not get compiled or interpreted but used to leave notes or explain what the code is doing. This is particularly useful when working in a team. There are three types of comments in python:\n",
        "\n",
        "1. Single Line comment using #\n",
        "2. Multi Line using triple quotes \"\"\"\n",
        "3. DocString Comments\n",
        "\n",
        "We will cover DocString Comments in the future"
      ],
      "metadata": {
        "id": "lLqS-2jZYjMv"
      }
    },
    {
      "cell_type": "markdown",
      "source": [
        "Before or after writing a code Place # will turn the rest of a line into a comment"
      ],
      "metadata": {
        "id": "nPvvmzHHZsEn"
      }
    },
    {
      "cell_type": "code",
      "source": [
        "A=24 # This is a single line comment that takes up the entire space V=27 , see the text stays green and doesn't change but if we go to the next line A is black again\n",
        "V=38\n",
        "print(A)\n",
        "print(V)"
      ],
      "metadata": {
        "colab": {
          "base_uri": "https://localhost:8080/"
        },
        "id": "2rYMXnsjZ40J",
        "outputId": "de0481cc-435d-4928-bfb6-d147617640a2"
      },
      "execution_count": null,
      "outputs": [
        {
          "output_type": "stream",
          "name": "stdout",
          "text": [
            "24\n",
            "38\n"
          ]
        }
      ]
    },
    {
      "cell_type": "markdown",
      "source": [
        "using \"\"\" starts multi-line comment which stops with another \"\"\" Sadly its not working on Google collab but will work on onlinegdb, vscode or any editor\n",
        "\n",
        "Until it is resolved you can check this link for example:\n",
        "https://www.w3schools.com/python/python_comments.asp"
      ],
      "metadata": {
        "id": "np52pE5QamIa"
      }
    },
    {
      "cell_type": "markdown",
      "source": [
        "Comments are a great way of communicating what the code you wrote is doing both to yourself for future reference and teammates"
      ],
      "metadata": {
        "id": "7_QgsHC1chc0"
      }
    },
    {
      "cell_type": "code",
      "source": [
        "# Import the necessary math library for advanced calculations\n",
        "import math\n",
        "\n",
        "# Define a function to calculate the factorial of a number\n",
        "def factorial(n):\n",
        "    \"\"\"\n",
        "    Calculates the factorial of a number using recursion.\n",
        "\n",
        "    :param n: The number to calculate the factorial for.\n",
        "    :return: The factorial of the input number.\n",
        "    \"\"\"\n",
        "    if n == 0:\n",
        "        return 1\n",
        "    else:\n",
        "        return n * factorial(n-1)\n",
        "\n",
        "# Initialize a list of numbers\n",
        "numbers = [3, 7, 12, 5, 9]\n",
        "\n",
        "# Calculate the sum of squares of even numbers in the list\n",
        "sum_of_squares = sum([num**2 for num in numbers if num % 2 == 0])\n",
        "\n",
        "# Calculate the square root of the sum of squares\n",
        "square_root = math.sqrt(sum_of_squares)\n",
        "\n",
        "# Find the largest prime factor of the square root\n",
        "def largest_prime_factor(n):\n",
        "    \"\"\"\n",
        "    Finds the largest prime factor of a number.\n",
        "\n",
        "    :param n: The number to find the largest prime factor for.\n",
        "    :return: The largest prime factor of the input number.\n",
        "    \"\"\"\n",
        "    factors = []\n",
        "    i = 2\n",
        "    while i * i <= n:\n",
        "        if n % i:\n",
        "            i += 1\n",
        "        else:\n",
        "            n //= i\n",
        "            factors.append(i)\n",
        "    if n > 1:\n",
        "        factors.append(n)\n",
        "    return max(factors)\n",
        "\n",
        "largest_prime = largest_prime_factor(int(square_root))\n",
        "\n",
        "# Display the results\n",
        "print(\"Numbers:\", numbers)\n",
        "print(\"Sum of squares of even numbers:\", sum_of_squares)\n",
        "print(\"Square root of the sum of squares:\", square_root)\n",
        "print(\"Largest prime factor of the square root:\", largest_prime)"
      ],
      "metadata": {
        "colab": {
          "base_uri": "https://localhost:8080/"
        },
        "id": "Teh14DXtdHPk",
        "outputId": "c3da97c6-1850-458f-ec35-4c92a3b8c2e2"
      },
      "execution_count": null,
      "outputs": [
        {
          "output_type": "stream",
          "name": "stdout",
          "text": [
            "Numbers: [3, 7, 12, 5, 9]\n",
            "Sum of squares of even numbers: 144\n",
            "Square root of the sum of squares: 12.0\n",
            "Largest prime factor of the square root: 3\n"
          ]
        }
      ]
    },
    {
      "cell_type": "markdown",
      "source": [
        "While you may be new to Python I am sure you can figure out how the factorial functions are working based on the comments!"
      ],
      "metadata": {
        "id": "UNvKmU2LdLsl"
      }
    },
    {
      "cell_type": "markdown",
      "source": [
        "**Arithmetic Operators and Conditional Statement**"
      ],
      "metadata": {
        "id": "YEJ3lafLdefn"
      }
    },
    {
      "cell_type": "markdown",
      "source": [
        "One of most important part of any programing language are its arithmetic operations to solve any mathmatical operations and conditional statements to resolve any boolean logic. Python has the most comprehensive set of operators of any programing langauge."
      ],
      "metadata": {
        "id": "xR6X6QEOjbUF"
      }
    },
    {
      "cell_type": "code",
      "source": [
        "x=34\n",
        "y=8\n",
        "print(x+y) # + is for addition\n",
        "print(x-y) # - is for subtraction\n",
        "print(x*y) # * is for multiplication\n",
        "print(x/y) # / is for divide, if division results in fraction it returns float\n",
        "print(x//y)# // is for floor division, floor division returns next smallest integer in case of fractions\n",
        "print(x%y) # % is Modulo which returns the remainder of dividing x by y, here the remainder is 2 this is an incredibly important operator in Computer Science\n",
        "print(x**y)# Calculates exponentials, in C we would have had to solve this using a for loop\n"
      ],
      "metadata": {
        "colab": {
          "base_uri": "https://localhost:8080/"
        },
        "id": "43tzSR6lk-Wi",
        "outputId": "3ec2721f-b5d7-4572-dec5-1c1be49e4851"
      },
      "execution_count": null,
      "outputs": [
        {
          "output_type": "stream",
          "name": "stdout",
          "text": [
            "42\n",
            "26\n",
            "272\n",
            "4.25\n",
            "4\n",
            "2\n",
            "1785793904896\n",
            "4\n"
          ]
        }
      ]
    },
    {
      "cell_type": "markdown",
      "source": [
        "Assignment Operator:"
      ],
      "metadata": {
        "id": "lbfwxJ7FnDCW"
      }
    },
    {
      "cell_type": "code",
      "source": [
        "x = 5\t  # the first one is self explanatory the latter one shows equivalent operation in comment the shorthands are often useful in loops\n",
        "x += 3\t# x = x + 3\n",
        "x -= 3\t# x = x - 3\n",
        "x *= 3\t# x = x * 3\n",
        "x /= 3\t# x = x / 3\n",
        "x %= 3\t# x = x % 3\n",
        "x //= 3\t# x = x // 3\n",
        "x **= 3\t# x = x ** 3"
      ],
      "metadata": {
        "id": "1o2yEVMpnLIk"
      },
      "execution_count": null,
      "outputs": []
    },
    {
      "cell_type": "markdown",
      "source": [
        "Comparison Operator:\n",
        "\n",
        "Comparison Operator returns true or false based on comparison conditions. Here are a selected list of comparison in Python(The basic operators are in comment while is application is shown in code):"
      ],
      "metadata": {
        "id": "dlfAPiEYoQTJ"
      }
    },
    {
      "cell_type": "code",
      "source": [
        "# Equality operator (==)\n",
        "result1 = (5 == 5)  # Checks if the left operand is equal to the right operand\n",
        "result2 = (3 == 6)  # Checks if the left operand is equal to the right operand\n",
        "print(\"For == (equal)operator:\")\n",
        "print(result1)  # True\n",
        "print(result2)  # False\n",
        "\n",
        "# Inequality operator (!=)\n",
        "result3 = (5 != 5)  # Checks if the left operand is not equal to the right operand\n",
        "result4 = (3 != 6)  # Checks if the left operand is not equal to the right operand\n",
        "print(\"For != (inequal) operator:\")\n",
        "print(result3)  # False\n",
        "print(result4)  # True\n",
        "\n",
        "# Greater than operator (>)\n",
        "result5 = (5 > 3)  # Checks if the left operand is greater than the right operand\n",
        "result6 = (2 > 7)  # Checks if the left operand is greater than the right operand\n",
        "print(\"For Greater than operator >\")\n",
        "print(result5)  # True\n",
        "print(result6)  # False\n",
        "\n",
        "# Less than operator (<)\n",
        "result7 = (5 < 3)  # Checks if the left operand is less than the right operand\n",
        "result8 = (2 < 7)  # Checks if the left operand is less than the right operand\n",
        "print(\"For less than operator <\")\n",
        "print(result7)  # False\n",
        "print(result8)  # True\n",
        "\n",
        "# Greater than or equal to operator (>=)\n",
        "result9 = (5 >= 5)  # Checks if the left operand is greater than or equal to the right operand\n",
        "result10 = (3 >= 6)  # Checks if the left operand is greater than or equal to the right operand\n",
        "print(\"For Greater than or equal to operator >=\")\n",
        "print(result9)  # True\n",
        "print(result10)  # False\n",
        "\n",
        "# Less than or equal to operator (<=)\n",
        "result11 = (5 <= 5)  # Checks if the left operand is less than or equal to the right operand\n",
        "result12 = (2 <= 7)  # Checks if the left operand is less than or equal to the right operand\n",
        "print(\"For less than or equal to operator <=\")\n",
        "print(result11)  # True\n",
        "print(result12)  # True\n"
      ],
      "metadata": {
        "colab": {
          "base_uri": "https://localhost:8080/"
        },
        "id": "nji3frwWp-Xq",
        "outputId": "85672bcb-f76f-4a84-9900-2e34b5a59989"
      },
      "execution_count": null,
      "outputs": [
        {
          "output_type": "stream",
          "name": "stdout",
          "text": [
            "For == (equal)operator:\n",
            "True\n",
            "False\n",
            "For != (inequal) operator:\n",
            "False\n",
            "True\n",
            "For Greater than operator >\n",
            "True\n",
            "False\n",
            "For less than operator <\n",
            "False\n",
            "True\n",
            "For Greater than or equal to operator >=\n",
            "True\n",
            "False\n",
            "For less than or equal to operator <=\n",
            "True\n",
            "True\n"
          ]
        }
      ]
    },
    {
      "cell_type": "markdown",
      "source": [
        "Conditional Statement:\n",
        "\n",
        "Python only has 3 conditional statements:\n",
        "1. if:\n",
        "2. else:\n",
        "3. elif:\n",
        "\n",
        "if is used to instantiate the boolean condition we must check and code we must run if condition is true, else is run if the condition is false, and elif is used to create an else if ladder like in any other coding language. Here are the three in action:"
      ],
      "metadata": {
        "id": "gXiRUvzJrdSn"
      }
    },
    {
      "cell_type": "code",
      "source": [
        "# Get the exam score from the user\n",
        "score = float(input(\"Enter your exam score: \"))\n",
        "\n",
        "# Determine the grade based on the score\n",
        "if score >= 90:\n",
        "    grade = \"A\"\n",
        "elif score >= 80:\n",
        "    grade = \"B\"\n",
        "elif score >= 70:\n",
        "    grade = \"C\"\n",
        "elif score >= 60:\n",
        "    grade = \"D\"\n",
        "else:\n",
        "    grade = \"F\"\n",
        "\n",
        "# Display the grade to the user\n",
        "print(f\"Your grade is {grade}\")\n"
      ],
      "metadata": {
        "colab": {
          "base_uri": "https://localhost:8080/"
        },
        "id": "8OXbvcwvsNq2",
        "outputId": "eb7c6ec9-cb04-45cc-8bf0-58d43bc3821f"
      },
      "execution_count": null,
      "outputs": [
        {
          "output_type": "stream",
          "name": "stdout",
          "text": [
            "Enter your exam score: 89\n",
            "Your grade is B\n"
          ]
        }
      ]
    },
    {
      "cell_type": "markdown",
      "source": [
        "Be careful with conditional statements! They may look easy but you must careful reason out your conditions or produce error. Many student only use if else statement in their code which can produce error!\n",
        "\n",
        "Suppose you want to categorize a number into different ranges with overlapping conditions. For instance, you want to categorize a number as \"Negative,\" \"Zero,\" \"Small Positive,\" \"Medium Positive,\" or \"Large Positive\" based on different criteria, and it's possible for a number to meet multiple criteria. Using only if and else could lead to inaccurate categorization.\n",
        "\n",
        "Here's an example using if and else alone:"
      ],
      "metadata": {
        "id": "OUtw_jn9teCT"
      }
    },
    {
      "cell_type": "code",
      "source": [
        "#Enter the number 5 as input\n",
        "number = float(input(\"Enter a number: \"))\n",
        "\n",
        "if number < 0:\n",
        "    category = \"Negative\"\n",
        "else:\n",
        "    category = \"Positive\"\n",
        "\n",
        "if number == 0:\n",
        "    category = \"Zero\"\n",
        "\n",
        "if 0 < number <= 10:\n",
        "    category = \"Small Positive\"\n",
        "\n",
        "if 10 < number <= 100:\n",
        "    category = \"Medium Positive\"\n",
        "\n",
        "if number > 100:\n",
        "    category = \"Large Positive\"\n",
        "\n",
        "print(f\"The number is in the category: {category}\")\n"
      ],
      "metadata": {
        "id": "l_TB_GH8tupf"
      },
      "execution_count": null,
      "outputs": []
    },
    {
      "cell_type": "markdown",
      "source": [
        "In this code, the issue is that once category is set to \"Positive\" in the first if statement, it remains \"Positive\" even if the number is zero or falls into one of the other ranges. This leads to incorrect categorization.\n",
        "\n",
        "To correct this issue and accurately categorize the number into the appropriate range, you can use elif to ensure that only one category is assigned based on the first matching condition. Here's the corrected code using elif, which correctly categorizes 5 as a small Positive:"
      ],
      "metadata": {
        "id": "S1QZOCKet13H"
      }
    },
    {
      "cell_type": "code",
      "source": [
        "#Enter the number 5 as input\n",
        "number = float(input(\"Enter a number: \"))\n",
        "\n",
        "if number < 0:\n",
        "    category = \"Negative\"\n",
        "elif number == 0:\n",
        "    category = \"Zero\"\n",
        "elif 0 < number <= 10:\n",
        "    category = \"Small Positive\"\n",
        "elif 10 < number <= 100:\n",
        "    category = \"Medium Positive\"\n",
        "else:\n",
        "    category = \"Large Positive\"\n",
        "\n",
        "print(f\"The number is in the category: {category}\")\n"
      ],
      "metadata": {
        "id": "jXBU9yvkuBUO"
      },
      "execution_count": null,
      "outputs": []
    },
    {
      "cell_type": "markdown",
      "source": [
        "**Loop Iteration: For , while and friends**"
      ],
      "metadata": {
        "id": "e5y80XiPvQP4"
      }
    },
    {
      "cell_type": "markdown",
      "source": [
        "In almost all programing language, for and while loop are used to repeat a block a code. Python does the same thing, but slightly differently. Lets start with while loop which works similar to other programing language. A while loop has the following syntax:\n"
      ],
      "metadata": {
        "id": "dtKIX4wRvlzC"
      }
    },
    {
      "cell_type": "code",
      "source": [
        "# Initialize a counter\n",
        "count = 1\n",
        "\n",
        "# Define the condition for the while loop\n",
        "while count <= 5: #only difference between C and Python is that brackets are no longer neccesary\n",
        "    # This code block will execute as long as the condition is true\n",
        "    print(count)  # Print the current value of 'count'\n",
        "    count += 1     # Increment 'count' by 1 in each iteration\n",
        "\n",
        "# The loop exits when the condition becomes false\n",
        "print(\"Loop finished.\")"
      ],
      "metadata": {
        "colab": {
          "base_uri": "https://localhost:8080/"
        },
        "id": "9PrGs1PgAMY6",
        "outputId": "b112972d-3a0e-4088-a9d3-730046b5738a"
      },
      "execution_count": null,
      "outputs": [
        {
          "output_type": "stream",
          "name": "stdout",
          "text": [
            "1\n",
            "2\n",
            "3\n",
            "4\n",
            "5\n",
            "Loop finished.\n"
          ]
        }
      ]
    },
    {
      "cell_type": "markdown",
      "source": [
        "In the above code we initialize a count variable with value 1. The while loop has condition count<=5 and while that condition holds TRUE the code block is repeated. The above code will print 1 to 5 and then stop."
      ],
      "metadata": {
        "id": "Dw74M2HNAXS-"
      }
    },
    {
      "cell_type": "markdown",
      "source": [
        "For Loop:\n",
        "\n",
        "for loop is slightly more complicated. Let us compare For loops in both C and Python first.\n",
        "\n",
        "C (Traditional for loop): In C, the for loop typically follows the format for (initialization; condition; increment/decrement). You need to explicitly initialize a counter variable, specify a condition to continue the loop, and define how the counter changes.\n",
        "\n",
        "Python (for-in loop): Python's for loop is more of a \"for-each\" loop. It iterates over elements of an iterable (e.g., lists, tuples, strings, dictionaries) using the for item in iterable syntax. You don't need to explicitly initialize a counter or specify increment/decrement; Python handles these details."
      ],
      "metadata": {
        "id": "fe6ClFLuBSBL"
      }
    },
    {
      "cell_type": "code",
      "source": [
        "\"\"\"\n",
        "Similar Code in C\n",
        "\n",
        "int i =0\n",
        "int arr1=[1,3,4,1,2]\n",
        "\n",
        "for(i;i<5;i++){\n",
        "  printf(\"%d\",arr[i])\n",
        "}\n",
        "\n",
        "\"\"\"\n",
        "v1=[1,3,4,5,98,2,4,2,1]\n",
        "\n",
        "for val in v1:\n",
        "  print(val)"
      ],
      "metadata": {
        "colab": {
          "base_uri": "https://localhost:8080/"
        },
        "id": "7OHDwaY4Eglo",
        "outputId": "ad66852a-b542-4937-bf70-0ce2414aed2e"
      },
      "execution_count": null,
      "outputs": [
        {
          "output_type": "stream",
          "name": "stdout",
          "text": [
            "1\n",
            "3\n",
            "4\n",
            "5\n",
            "98\n",
            "2\n",
            "4\n",
            "2\n",
            "1\n"
          ]
        }
      ]
    },
    {
      "cell_type": "markdown",
      "source": [
        "In python for is used to iterat over an iterable or sequence. Iterable or sequence are special data types in Python whose main property is that it stores more than one value and each value points to the next or end signifying end of list. As such unlike in C where we have to remember the index, in python the for loop uses this in built property and simply uses next() to get the next value in the iterable which then appropriately stored in the named variable in the loop. Here the integer values in v1 are stored in val for each iteration.\n",
        "\n",
        "This this is incredibly easy to code, we can also recognize some issues can't we? For example what if we wanted to make a code that increments the value stored at every even index by 5? How would we do that here? Val stores the index value but not the index itself so we don't know if we are printing a number at an even index or not. First we must get the index value of the iterable!\n",
        "\n",
        "luckily Python has in-built functions which help in this regard. For the scope of this tutorials we will be using:\n",
        "\n",
        "1. range():\n",
        "\n",
        "   range() is a function which takes start and stop integer value and returns an iterable consisting of start to (stop-1). So if we did (range(0,7)) it will return an iterable from 0,1,2,3,4,5,6 . Similarly if we did range(3,8) it returns iterable from 3,4,5,6,7 . If we pass only one variable into the function then that variable is used for the stop value and 0 is used as default value for start. This range(8) produces the following iterable 0,1,2,3,4,5,6,7 once again 8 is excluded as it is the stop value. The final argument is step which determines the gap between each subsequent value. The default value is set to 1 and hence we do not need to enter any value for step.\n",
        "  \n",
        "   Thus the final syntex for the purpose of the tutorial:\n",
        "\n",
        "   range(start,stop)\n",
        "   range(stop)\n",
        "\n",
        "   This is possible because of Overloading property of OOP. For now thats all you need to know but can follow up with the documentation link below if you are still curious about it:\n",
        "   \n",
        "   https://docs.python.org/3/library/stdtypes.html#typesseq-range\n",
        "\n",
        "\n",
        "\n",
        "2. len():\n",
        "\n",
        "   len() is a function which takes in an iterable and returns its size as an integer value\n",
        "\n",
        "   so len([1,2,3,4,5]) returns 5 because there are 5 things in the array.\n",
        "   Simiarly you can pass a variable storing an array to it.\n",
        "\n",
        "   Arr= [1,2,3,4,5,2,1,2]\n",
        "   len(arr) returns 8\n",
        "\n",
        "\n",
        "By combining len() and range() we can iterate through any array using its index. The len(arr) returns the length of array. range() and iterable value starting at 0(which is the start of all array) ending at Len()-1, and as we know arrays are indexed from 0 to length of array-1. Thus using this new knowledge we can resolve the previously stated problem where we want to increment the value of even index by 5"
      ],
      "metadata": {
        "id": "5OSv4Z2dFMHz"
      }
    },
    {
      "cell_type": "code",
      "source": [
        "arr=[1,3,4,2,1,3,21,1]\n",
        "\n",
        "for i in range(len(arr)): # returns an iterable form 0 to 7 length or size or arr is 8\n",
        "  if i%2==0: # if index is divisible by 2 it is even\n",
        "          arr[i]+=5\n",
        "print(arr)"
      ],
      "metadata": {
        "colab": {
          "base_uri": "https://localhost:8080/"
        },
        "id": "pGtVETN8VtWh",
        "outputId": "f313f880-b14b-470b-9fa3-a606b3731c03"
      },
      "execution_count": null,
      "outputs": [
        {
          "output_type": "stream",
          "name": "stdout",
          "text": [
            "[6, 3, 9, 2, 6, 3, 26, 1]\n"
          ]
        }
      ]
    },
    {
      "cell_type": "markdown",
      "source": [
        "Lists and Dictionary:"
      ],
      "metadata": {
        "id": "vK_vQ0Y1Wd6A"
      }
    },
    {
      "cell_type": "markdown",
      "source": [
        "Python has two extremely important built-in data structures:\n",
        "\n",
        "1. list: list is like an array in C or Java, but unlike C or Java we do not have to instantitate it with a data type or size..... ANNNNND it can store different types of value in the same list!"
      ],
      "metadata": {
        "id": "e3LPp2h1WyfF"
      }
    },
    {
      "cell_type": "code",
      "source": [
        "val= [] #this instantiates and empty list, also counts as a null value, I will explain what that means in the future\n",
        "val1= [1,2,3,4,5,7,8] # list with only integer values\n",
        "val2= [\"Hello\",1,2.37,\"Goodbye!\"]\n",
        "val3 [[1,2,3,4],[5,6,7,8]] #nested lists\n",
        "print(val)\n",
        "print(val1)\n",
        "print(val2)\n",
        "print(val3)"
      ],
      "metadata": {
        "colab": {
          "base_uri": "https://localhost:8080/"
        },
        "id": "lOuFgcGzY0jI",
        "outputId": "1ba623cb-5ed0-4c62-e8eb-fac31d9cc425"
      },
      "execution_count": null,
      "outputs": [
        {
          "output_type": "stream",
          "name": "stdout",
          "text": [
            "[]\n",
            "[1, 2, 3, 4, 5, 7, 8]\n",
            "['Hello', 1, 2.37, 'Goodbye!']\n"
          ]
        }
      ]
    },
    {
      "cell_type": "markdown",
      "source": [
        "  2. dictionary (dict): Dictionaries are an un-ordered collection of key and value pair. Unlike list dictionaries are not indexed but search is done via key and appropriate corresponding value i returned. Like list they can store any data type"
      ],
      "metadata": {
        "id": "Uyzj8Rm0aK7U"
      }
    },
    {
      "cell_type": "code",
      "source": [
        "dictionary={} #Second brackets are used to instantiate empty dictionary again empty dictionary counts as null\n",
        "dict2={\"Students\":[\"Ajwad\",\"Somaiya\",\"Ashik\",\"Shahed\"],\n",
        "       \"id\":[212400006,232400027,21140008,21140009]}\n",
        "for student in dict2[\"Students\"]:\n",
        "  print(student)"
      ],
      "metadata": {
        "colab": {
          "base_uri": "https://localhost:8080/"
        },
        "id": "KlWi4SCsd4jI",
        "outputId": "16d96aca-ee69-4eb7-cd49-0b5d167fa317"
      },
      "execution_count": null,
      "outputs": [
        {
          "output_type": "stream",
          "name": "stdout",
          "text": [
            "Ajwad\n",
            "Somaiya\n",
            "Ashik\n",
            "Shahed\n"
          ]
        }
      ]
    },
    {
      "cell_type": "markdown",
      "source": [
        "For the scope of this tutorial we will focus only on Lists. Dictionary is an example of an advanced data structure known as Hashtable and as such will be covered later."
      ],
      "metadata": {
        "id": "lw3QMX4QfGon"
      }
    },
    {
      "cell_type": "markdown",
      "source": [
        "Coming back to List. List is organized by their index, so there is an inherent order within the List even if the value at each index is not in order.\n",
        "\n",
        "Consider val2= [\"Hello\",1,2.37,\"Goodbye!\"]\n",
        "here val2[0] will return \"Hello\" val[1] will return 1 and so on according to their index position much like in C or Java. Hence when we use for loop it prints in order.\n",
        "\n"
      ],
      "metadata": {
        "id": "RyKNH86FfIjB"
      }
    },
    {
      "cell_type": "markdown",
      "source": [
        "Python lists are versatile data structures that support a variety of built-in methods for manipulating and working with lists. Here's a brief overview of some common methods supported by Python lists, along with example code and comments for each:\n",
        "\n",
        "1. **`append(item)`**:\n",
        "   - Adds an item to the end of the list.\n",
        "\n",
        "   ```python\n",
        "   numbers = [1, 2, 3]\n",
        "   numbers.append(4)\n",
        "   # numbers is now [1, 2, 3, 4]\n",
        "   ```\n",
        "\n",
        "2. **`extend(iterable)`**:\n",
        "   - Appends the elements from an iterable to the end of the list.\n",
        "\n",
        "   ```python\n",
        "   numbers = [1, 2, 3]\n",
        "   more_numbers = [4, 5]\n",
        "   numbers.extend(more_numbers)\n",
        "   # numbers is now [1, 2, 3, 4, 5]\n",
        "   ```\n",
        "\n",
        "3. **`insert(index, item)`**:\n",
        "   - Inserts an item at a specific index in the list.\n",
        "\n",
        "   ```python\n",
        "   numbers = [1, 2, 3]\n",
        "   numbers.insert(1, 4)\n",
        "   # numbers is now [1, 4, 2, 3]\n",
        "   ```\n",
        "\n",
        "4. **`remove(item)`**:\n",
        "   - Removes the first occurrence of the specified item from the list.\n",
        "\n",
        "   ```python\n",
        "   numbers = [1, 2, 3, 2]\n",
        "   numbers.remove(2)\n",
        "   # numbers is now [1, 3, 2]\n",
        "   ```\n",
        "\n",
        "5. **`pop(index)`**:\n",
        "   - Removes and returns the item at a specific index. If no index is specified, it removes and returns the last item.\n",
        "\n",
        "   ```python\n",
        "   numbers = [1, 2, 3]\n",
        "   popped_item = numbers.pop(1)\n",
        "   # numbers is now [1, 3], and popped_item is 2\n",
        "   ```\n",
        "\n",
        "6. **`index(item)`**:\n",
        "   - Returns the index of the first occurrence of the specified item.\n",
        "\n",
        "   ```python\n",
        "   numbers = [1, 2, 3, 2]\n",
        "   index = numbers.index(2)\n",
        "   # index is 1 (the first occurrence of 2)\n",
        "   ```\n",
        "\n",
        "7. **`count(item)`**:\n",
        "   - Returns the number of times the specified item appears in the list.\n",
        "\n",
        "   ```python\n",
        "   numbers = [1, 2, 3, 2]\n",
        "   count = numbers.count(2)\n",
        "   # count is 2 (2 appears twice)\n",
        "   ```\n",
        "\n",
        "8. **`sort()`**:\n",
        "   - Sorts the list in ascending order.\n",
        "\n",
        "   ```python\n",
        "   numbers = [3, 1, 2]\n",
        "   numbers.sort()\n",
        "   # numbers is now [1, 2, 3]\n",
        "   ```\n",
        "\n",
        "9. **`reverse()`**:\n",
        "   - Reverses the order of the elements in the list.\n",
        "\n",
        "   ```python\n",
        "   numbers = [1, 2, 3]\n",
        "   numbers.reverse()\n",
        "   # numbers is now [3, 2, 1]\n",
        "   ```\n",
        "\n",
        "10. **`copy()`**:\n",
        "    - Returns a shallow copy of the list.\n",
        "\n",
        "    ```python\n",
        "    numbers = [1, 2, 3]\n",
        "    copy_of_numbers = numbers.copy()\n",
        "    # copy_of_numbers is a new list [1, 2, 3]\n",
        "    ```\n",
        "\n",
        "In future tutorial we can use these common methods to implement more advanced data structures and algorithms"
      ],
      "metadata": {
        "id": "IglN7wmehZYm"
      }
    },
    {
      "cell_type": "markdown",
      "source": [
        "***Pratice Problem 1:***"
      ],
      "metadata": {
        "id": "goWoFunnkG5j"
      }
    },
    {
      "cell_type": "markdown",
      "source": [
        "Given the following list:\n",
        "\n",
        "val1= [6, False, 83, True, False, 45.952690976733, 92, True, False, 'ihl', 'kvb', 84.32005701787328, 66.1090707527116, -80, True, False, -81, 'znh', -70, -95, 'ojj', True, 8.489345528286506, True, 75.28826514552584, 27.342051225213105, 65.41207483597526, -21, 80.80218347615079, 'qom']\n",
        "\n",
        "write a Python script which only prints the integer value in the list.\n",
        "\n",
        "\n"
      ],
      "metadata": {
        "id": "sGG6ZYu4k8pH"
      }
    },
    {
      "cell_type": "markdown",
      "source": [
        "***Practice Problem 2:***\n",
        "\n",
        "\n",
        "Given the following list:\n",
        "\n",
        "val2=[4, 92, 15, 49, 76, 28, 22, 49, 96, 61, 12, 5, 52, 76, 73, 45, 31, 71, 96, 68, 28, 16, 10, 9, 79, 2, 95, 10, 46, 25, 56, 63, 95, 86, 16, 88, 90, 74, 17, 14, 70, 91, 32, 15, 45, 19, 15, 15, 99, 60]\n",
        "\n",
        "\n",
        "Write a Python code which carries out the following commands in numerical order:\n",
        "1. Changes any value which is a power of 2 to 0.\n",
        "2. Subtracts 34 from any value which is a multiple of 3.\n",
        "3. (Bonus) Find and print the maximum value in the list after command 1 and 2 are carried out. (Hint! there is a built in function which does this for you! But you will have to Google it! Googling for answers is an important skill in a coder's *repertoire*!\n",
        "\n",
        "***Practice Problem 3***\n",
        "\n",
        "Given the following list\n",
        "\n",
        "val3=[4,27,1,2,34,234,1,2,4,5,8]\n",
        "\n",
        "Write a Python code which outputs the total sum of all the values in the odd index of the list"
      ],
      "metadata": {
        "id": "zSj-FaNOlMOz"
      }
    },
    {
      "cell_type": "markdown",
      "source": [
        "**Part 2: Strings and Python Packages**"
      ],
      "metadata": {
        "id": "Sl5cy1kFdCqa"
      }
    },
    {
      "cell_type": "markdown",
      "source": [
        "Strings:\n",
        "\n",
        "A string is a collection of char characters which we can use to represent natural language.\n",
        "\n",
        "```\n",
        "Hello = \"Hello World\"\n",
        "```\n",
        "In python strings behave like an Array so you can get indiviual letters using indexes\n",
        "\n",
        "\n"
      ],
      "metadata": {
        "id": "pB38fiORdxu2"
      }
    },
    {
      "cell_type": "code",
      "source": [
        "message=\"Hello World!\"\n",
        "print(message[0])"
      ],
      "metadata": {
        "colab": {
          "base_uri": "https://localhost:8080/"
        },
        "id": "wFTsvZCke1uw",
        "outputId": "a8691786-b619-48fb-834e-ef58f03e73f6"
      },
      "execution_count": null,
      "outputs": [
        {
          "output_type": "stream",
          "name": "stdout",
          "text": [
            "H\n"
          ]
        }
      ]
    },
    {
      "cell_type": "markdown",
      "source": [
        "Here using the first index we get H back. You can declare single line string using double quotes(\") and multi-line using triple quote (''')"
      ],
      "metadata": {
        "id": "kCdIIFUefBzb"
      }
    },
    {
      "cell_type": "code",
      "source": [
        "hello_sentence = \"Hello!\"\n",
        "hello_passage='''This is a multiline string.\n",
        "It can span across multiple lines.'''\n",
        "print(hello_sentence)\n",
        "print(hello_passage)"
      ],
      "metadata": {
        "colab": {
          "base_uri": "https://localhost:8080/"
        },
        "id": "NvZr4B32fxTb",
        "outputId": "01342dc5-0000-4140-adb9-97a691fb69e3"
      },
      "execution_count": null,
      "outputs": [
        {
          "output_type": "stream",
          "name": "stdout",
          "text": [
            "Hello!\n",
            "This is a multiline string.\n",
            "It can span across multiple lines.\n"
          ]
        }
      ]
    },
    {
      "cell_type": "markdown",
      "source": [
        "String in Python a lot of useful built-in property and functions! They will be invaluable letter!\n",
        "\n",
        "Certainly! Here's a short note on Python strings for beginners:\n",
        "\n",
        "---\n",
        "\n",
        "\n",
        "\n",
        "**String Operations:**\n",
        "\n",
        "1. **Concatenation:** You can combine strings using the `+` operator.\n",
        "   ```\n",
        "   greeting = \"Hello, \"\n",
        "   name = \"Alice\"\n",
        "   message = greeting + name\n",
        "   ```\n",
        "\n",
        "2. **String Length:** Use the `len()` function to find the length of a string.\n",
        "   ```\n",
        "   text = \"Python\"\n",
        "   length = len(text)  # length will be 6\n",
        "   ```\n",
        "\n",
        "3. **Indexing and Slicing:** Access specific characters or substrings using indices.\n",
        "   ```\n",
        "   text = \"Python\"\n",
        "   first_char = text[0]  # first_char will be 'P'\n",
        "   substring = text[1:4]  # substring will be 'yth'\n",
        "   ```\n",
        "\n",
        "4. **String Methods:** Python offers various built-in methods for string manipulation.\n",
        "   ```\n",
        "   text = \"Hello, World!\"\n",
        "   uppercase_text = text.upper()  # uppercase_text will be \"HELLO, WORLD!\"\n",
        "   ```\n",
        "\n",
        "**String Escape Sequences:**\n",
        "Escape sequences are used to include special characters within strings, such as newline `\\n`, tab `\\t`, or a literal backslash `\\\\`.\n",
        "\n",
        "**Formatted Strings:**\n",
        "Python allows you to create formatted strings using f-strings (formatted string literals) to embed variables and expressions within strings directly.\n",
        "```\n",
        "name = \"Alice\"\n",
        "age = 30\n",
        "message = f\"My name is {name} and I am {age} years old.\"\n",
        "```\n",
        "\n",
        "**String Manipulation:**\n",
        "Python offers a wide range of string manipulation functions and methods, such as searching, replacing, splitting, and stripping.\n",
        "\n",
        "Certainly! Here are examples of string search, replace, splitting, and stripping in Python:\n",
        "\n",
        "**1. String Search (Finding Substrings):**\n",
        "\n",
        "***(This is actually a poor explanation, there are multiple things working together here, so let me work on this a but more in the future)***\n",
        "\n",
        "You can use the `find()` and `index()` methods to search for substrings within a string.\n",
        "\n",
        "```python\n",
        "text = \"Hello, World! How's the world today?\"\n",
        "\n",
        "# Using find() to find the first occurrence of \"World\"\n",
        "index = text.find(\"World\")\n",
        "if index != -1:\n",
        "    print(f\"Found 'World' at index {index}\")\n",
        "else:\n",
        "    print(\"'World' not found\")\n",
        "\n",
        "# Using index() to find the first occurrence of \"world\"\n",
        "try:\n",
        "    index = text.index(\"world\")\n",
        "    print(f\"Found 'world' at index {index}\")\n",
        "except ValueError:\n",
        "    print(\"'world' not found\")\n",
        "```\n",
        "\n",
        "Output:\n",
        "```\n",
        "Found 'World' at index 7\n",
        "'world' not found\n",
        "```\n",
        "\n",
        "**2. String Replace:**\n",
        "\n",
        "You can use the `replace()` method to replace the first occurrence of a substring with another substring.\n",
        "\n",
        "```python\n",
        "text = \"Hello, World! How's the world today?\"\n",
        "\n",
        "# Replace \"World\" with \"Python\"\n",
        "new_text = text.replace(\"World\", \"Python\")\n",
        "print(new_text)\n",
        "```\n",
        "\n",
        "Output:\n",
        "```\n",
        "Hello, Python! How's the world today?\n",
        "```\n",
        "\n",
        "**3. String Splitting:**\n",
        "\n",
        "You can split a string into a list of substrings using the `split()` method.\n",
        "\n",
        "```python\n",
        "text = \"apple,banana,cherry,orange\"\n",
        "\n",
        "# Split the string at commas\n",
        "fruits = text.split(',')\n",
        "print(fruits)\n",
        "```\n",
        "\n",
        "Output:\n",
        "```\n",
        "['apple', 'banana', 'cherry', 'orange']\n",
        "```\n",
        "\n",
        "**4. String Stripping:**\n",
        "\n",
        "You can remove leading and trailing whitespace (including spaces, tabs, and newline characters) from a string using the `strip()` method.\n",
        "\n",
        "```python\n",
        "text = \"   This is a sentence with leading and trailing spaces.   \"\n",
        "\n",
        "# Remove leading and trailing spaces\n",
        "cleaned_text = text.strip()\n",
        "print(cleaned_text)\n",
        "```\n",
        "\n",
        "Output:\n",
        "```\n",
        "This is a sentence with leading and trailing spaces.\n",
        "```\n",
        "\n",
        "You can also use `lstrip()` to remove leading whitespace or `rstrip()` to remove trailing whitespace specifically.\n",
        "\n",
        "These examples illustrate how to perform common string operations in Python. These operations are useful for a wide range of text-processing tasks.\n",
        "\n",
        "**String Immutability:**\n",
        "Strings in Python are immutable, meaning their values cannot be changed after creation. When you modify a string, a new string is created. For now just remember this fact, this will become important in the future.\n",
        "\n"
      ],
      "metadata": {
        "id": "o_PuhIqXg7m3"
      }
    },
    {
      "cell_type": "markdown",
      "source": [
        "**Functions**\n",
        "\n",
        "Functions are the first building blocks of software development because it introduces re-usable logic!\n",
        "\n",
        "Functions have similar behavior to that of its counter part in C and Java. The snippet below shows the basic of how to write a function in Python. As we do not have brackets in Python, idention are very important, here function logic or return must be idented after the \"def\". When defining a function we must always place () even if we are not passing any arguments. Functions only return value if \"return\" keyword is included in the function"
      ],
      "metadata": {
        "id": "0Eju4_afjq_d"
      }
    },
    {
      "cell_type": "code",
      "source": [
        "# This is formatted as code\n",
        "def Hello_World():\n",
        "  print(\"Hellow World\")\n",
        "\n",
        "def Print_Message(message):\n",
        "  print(message)\n",
        "\n",
        "def Encrypted_Message(message):\n",
        "    shifted_message = ''.join([chr(ord(char) + 1) if char.isalpha() else char for char in message])\n",
        "    return shifted_message\n",
        "\n",
        "Hello_World()\n",
        "Print_Message(\"The message\")\n",
        "a=Hello_World() # Calling the function always results in print!\n",
        "b=Print_Message(\"Whats up!\") # Calling the function always results in print!\n",
        "c= Encrypted_Message(\"Can you tell how the message is being encrypted?\")\n",
        "print(a) # the method returned nothing\n",
        "print(b) # same as b\n",
        "print(c) # c returns a string value!\n"
      ],
      "metadata": {
        "colab": {
          "base_uri": "https://localhost:8080/"
        },
        "id": "1ODLHHftnHf0",
        "outputId": "39627e15-7ad5-4068-c952-a29c5d31e789"
      },
      "execution_count": null,
      "outputs": [
        {
          "output_type": "stream",
          "name": "stdout",
          "text": [
            "Hellow World\n",
            "The message\n",
            "Hellow World\n",
            "Whats up!\n",
            "None\n",
            "None\n",
            "Dbo zpv ufmm ipx uif nfttbhf jt cfjoh fodszqufe?\n"
          ]
        }
      ]
    },
    {
      "cell_type": "markdown",
      "source": [
        "You can do a lot more with functions in Python but for now This is all you have to know."
      ],
      "metadata": {
        "id": "d3KXjcchrKeZ"
      }
    },
    {
      "cell_type": "markdown",
      "source": [
        "**Modules:**\n",
        "\n",
        "A module is a file containing Python code, which can include variables, functions, and classes. Modules are used to organize and encapsulate related code, making it easier to manage and reuse code across multiple programs. Modules help keep your codebase organized and maintainable by providing a way to break it down into smaller, more manageable pieces.\n",
        "\n",
        "Here's a explanation of modules in Python, along with examples of how to create and use them in your code:\n",
        "\n",
        "**Creating a Module:**\n",
        "A module is typically implemented as a `.py` file. To create a module, you can create a new Python file and write your code in it. For example, let's create a module named `my_module.py`:\n",
        "\n",
        "```python\n",
        "# my_module.py\n",
        "\n",
        "def greet(name):\n",
        "    return f\"Hello, {name}!\"\n",
        "\n",
        "def square(x):\n",
        "    return x ** 2\n",
        "```\n",
        "\n",
        "In this example, `my_module.py` contains two functions: `greet` and `square`. These functions can be accessed and used in other Python programs.\n",
        "\n",
        "**Using a Module:**\n",
        "To use the functions and variables defined in a module, you need to import the module into your Python script. You can import a module using the `import` keyword.\n",
        "\n",
        "```python\n",
        "# main.py\n",
        "import my_module\n",
        "\n",
        "# Using functions from my_module\n",
        "result = my_module.greet(\"Alice\")\n",
        "print(result)  # Output: \"Hello, Alice!\"\n",
        "\n",
        "num = 5\n",
        "square_result = my_module.square(num)\n",
        "print(square_result)  # Output: 25\n",
        "```\n",
        "\n",
        "In this example, we import the `my_module` module and then use its `greet` and `square` functions in the `main.py` script.\n",
        "\n",
        "**Accessing Module Items Directly:**\n",
        "Alternatively, you can import specific items (functions, variables, or classes) from a module and use them directly without specifying the module name.\n",
        "\n",
        "```python\n",
        "# main.py\n",
        "from my_module import greet\n",
        "\n",
        "result = greet(\"Bob\")\n",
        "print(result)  # Output: \"Hello, Bob!\"\n",
        "```\n",
        "\n",
        "In this case, we only import the `greet` function from `my_module` and use it directly in the `main.py` script.\n",
        "\n",
        "**Using Aliases:**\n",
        "You can also use aliases when importing modules or items to avoid naming conflicts. You will see this a lot when going throught various python documentations and projects!\n",
        "\n",
        "```python\n",
        "# main.py\n",
        "import my_module as mm\n",
        "\n",
        "result = mm.greet(\"Charlie\")\n",
        "print(result)  # Output: \"Hello, Charlie!\"\n",
        "```\n",
        "\n",
        "Here, we import `my_module` with the alias `mm`.\n",
        "\n",
        "**Standard Library Modules:**\n",
        "Python comes with a rich standard library that includes many modules for common tasks. You can import and use these modules without needing to install anything separately. For example:\n",
        "\n",
        "```python\n",
        "import math\n",
        "\n",
        "result = math.sqrt(16)\n",
        "print(result)  # Output: 4.0\n",
        "```\n",
        "\n",
        "Here, we import the `math` module to access the `sqrt` function.\n",
        "\n",
        "**Creating Your Own Packages:**\n",
        "When your Python project becomes more extensive, you can organize related modules into packages. Packages are directories containing multiple modules and an `__init__.py` file. This allows you to create a hierarchical structure for your code.\n",
        "\n",
        "```plaintext\n",
        "my_package/\n",
        "    __init__.py\n",
        "    module1.py\n",
        "    module2.py\n",
        "```\n",
        "\n",
        "To use modules from a package, you can import them using dot notation:\n",
        "\n",
        "```python\n",
        "# Importing modules from a package\n",
        "from my_package import module1, module2\n",
        "```\n",
        "\n",
        " You can create your own modules to encapsulate functions and variables, and you can also use modules from the Python standard library or third-party libraries to extend the functionality of your programs. Importing modules allows you to access the code within them, making it easier to build complex and modular applications."
      ],
      "metadata": {
        "id": "08Xc-KTarf2e"
      }
    },
    {
      "cell_type": "markdown",
      "source": [
        "**Assignment2: Case Study 1**\n",
        "\n",
        "**Scenario: Online Shopping Cart**\n",
        "\n",
        "You are tasked with creating a simple online shopping cart system. You are given a module named `shopping_cart` that provides some basic functionalities to interact with a shopping cart. Your goal is to create a set of functions to manage the cart and perform various operations.\n",
        "\n",
        "Here's the content of the `shopping_cart` module:\n",
        "\n",
        "```python\n",
        "# shopping_cart.py\n",
        "\n",
        "# Initialize an empty shopping cart\n",
        "cart = []\n",
        "\n",
        "# Add an item to the cart\n",
        "def add_item(item_name, item_price):\n",
        "    cart.append({\"name\": item_name, \"price\": item_price})\n",
        "\n",
        "# Remove an item from the cart by name\n",
        "def remove_item(item_name):\n",
        "    for item in cart:\n",
        "        if item[\"name\"] == item_name:\n",
        "            cart.remove(item)\n",
        "\n",
        "# Calculate the total price of items in the cart\n",
        "def calculate_total():\n",
        "    total = 0\n",
        "    for item in cart:\n",
        "        total += item[\"price\"]\n",
        "    return total\n",
        "\n",
        "# View the items in the cart\n",
        "def view_cart():\n",
        "    if len(cart) == 0:\n",
        "        print(\"Your shopping cart is empty.\")\n",
        "    else:\n",
        "        print(\"Items in your shopping cart:\")\n",
        "        for item in cart:\n",
        "            print(f\"{item['name']} - ${item['price']:.2f}\")\n",
        "```\n",
        "\n",
        "Your task is to create a set of functions to interact with the provided `shopping_cart` module and perform the following operations:\n",
        "\n",
        "1. Add items to the cart.\n",
        "2. Remove items from the cart by name.\n",
        "3. Calculate and display the total price of items in the cart.\n",
        "4. Display the contents of the cart.\n",
        "\n",
        "You will write two files, one containing your new operations in a seperate module, and a main file in which you will use both modules to show how to use every function in each module. You will also share the snapshot of how the codes are organized in your directory.\n",
        "\n"
      ],
      "metadata": {
        "id": "7GyH49lwS1km"
      }
    },
    {
      "cell_type": "markdown",
      "source": [
        "**Bonus Questions: Printing Letters!**\n",
        "\n",
        "In advanced lab you were tasked with printing letters using nested for loops. Here you will print H,I,J,K in python. First lets look at my solution for O!\n",
        "\n",
        "\n",
        "\n",
        "```c\n",
        "#include <stdio.h>\n",
        "\n",
        "int main() {\n",
        "    int i, j;\n",
        "\n",
        "    for (j = 0; j < 7; j++) { // Outer loop for rows (7 rows)\n",
        "        for (i = 0; i < 7; i++) { // Inner loop for columns (7 columns)\n",
        "\n",
        "            // Check conditions to determine whether to print '*' or ' '\n",
        "            if ((j == 0 || j == 6) && (i > 1 && i < 5)) { // First and last rows, columns 2-4\n",
        "                printf(\"*\");\n",
        "            }\n",
        "            else if ((j == 1 || j == 5) && (i > 0 && i < 6)) { // Second and second-to-last rows, columns 1-5\n",
        "                printf(\"*\");\n",
        "            }\n",
        "            else if ((j > 1 && j < 5) && (i < 2 || i > 4)) { // Rows 3-5, columns 0-1 and 5-6\n",
        "                printf(\"*\");\n",
        "            }\n",
        "            else {\n",
        "                printf(\" \"); // Print a space for all other positions\n",
        "            }\n",
        "        }\n",
        "        printf(\"\\n\"); // Move to the next row\n",
        "    }\n",
        "\n",
        "    return 0;\n",
        "}\n",
        "```\n",
        "\n",
        "When using a nested loop its always useful to think of grid.Because the terminal where we are printing is a 2d surface you will never need more than 2 nested loop to print everything! What is then left is figuring out the printing condition inside t. The outerloop here j represents the y-axis going downward downward ↓ and a inner loop i as x-axis going rightward → . Now the placement of the stars simply depends on what is happening at each x,y co-ordinate. Draw yourself a small grid with what place where \"*\" should be and where \" \" should be. Now this will be a little harder in Python! Remember Python print() automatically prints the next item in a new line! So you will have to look at the documentation to understand how to print certain things in the same line and others in new line! Good luck!\n",
        "\n",
        "\n",
        "\n",
        "\n"
      ],
      "metadata": {
        "id": "JNu3u2HjZ95m"
      }
    },
    {
      "cell_type": "markdown",
      "source": [
        "Assignment 3: Requests and Basic GET API\n",
        "\n",
        "```python\n",
        "\n",
        "import requests\n",
        "from pprint import pprint\n",
        "\n",
        "Userinput=input(\"What movie would you like to Search?:\")\n",
        "\n",
        "apikey=\"ad1a1be8\"\n",
        "FullURL=\"http://www.omdbapi.com/?t=Blade+Runner&apikey=ad1a1be8\"\n",
        "BaseURL=\"http://www.omdbapi.com/\"\n",
        "query=\"?t=\"+Userinput\n",
        "APIKeyURL=\"&apikey=\"\n",
        "\n",
        "\n",
        "simpleReply= requests.get(FullURL)\n",
        "\n",
        "jsonreply=simpleReply.json()\n",
        "pprint(jsonreply[\"Plot\"])\n",
        "ComplexReply = requests.get(BaseURL+query+APIKeyURL+apikey)\n",
        "ComplexJson=ComplexReply.json()\n",
        "pprint(ComplexJson[\"Title\"])\n",
        "pprint(ComplexJson[\"Plot\"])\n",
        "\n",
        "\n",
        "```\n",
        "\n",
        "Copy the code above, This will be a manuel tutorial"
      ],
      "metadata": {
        "id": "jV6tNeZVB3RK"
      }
    }
  ]
}